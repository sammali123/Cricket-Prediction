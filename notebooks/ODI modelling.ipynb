{
 "cells": [
  {
   "cell_type": "code",
   "execution_count": 7,
   "metadata": {},
   "outputs": [],
   "source": [
    "import pandas as pd\n",
    "df = pd.read_csv('../Data/odi.csv')"
   ]
  },
  {
   "cell_type": "code",
   "execution_count": 8,
   "metadata": {},
   "outputs": [
    {
     "output_type": "execute_result",
     "data": {
      "text/plain": [
       "    mid        date                                   venue bat_team  \\\n",
       "0  1524  2013-01-11  Saurashtra Cricket Association Stadium    India   \n",
       "1  1524  2013-01-11  Saurashtra Cricket Association Stadium    India   \n",
       "2  1524  2013-01-11  Saurashtra Cricket Association Stadium    India   \n",
       "3  1524  2013-01-11  Saurashtra Cricket Association Stadium    India   \n",
       "4  1524  2013-01-11  Saurashtra Cricket Association Stadium    India   \n",
       "\n",
       "  bowl_team    batsman   bowler  runs  wickets  overs  runs_last_5  \\\n",
       "0   England  AM Rahane  ST Finn     0        0    0.1            0   \n",
       "1   England  AM Rahane  ST Finn     0        0    0.2            0   \n",
       "2   England  AM Rahane  ST Finn     0        0    0.3            0   \n",
       "3   England  AM Rahane  ST Finn     4        0    0.4            4   \n",
       "4   England  AM Rahane  ST Finn     4        0    0.5            4   \n",
       "\n",
       "   wickets_last_5  striker  non-striker  total  win  \n",
       "0               0        0            0    325    0  \n",
       "1               0        0            0    325    0  \n",
       "2               0        0            0    325    0  \n",
       "3               0        4            0    325    0  \n",
       "4               0        4            0    325    0  "
      ],
      "text/html": "<div>\n<style scoped>\n    .dataframe tbody tr th:only-of-type {\n        vertical-align: middle;\n    }\n\n    .dataframe tbody tr th {\n        vertical-align: top;\n    }\n\n    .dataframe thead th {\n        text-align: right;\n    }\n</style>\n<table border=\"1\" class=\"dataframe\">\n  <thead>\n    <tr style=\"text-align: right;\">\n      <th></th>\n      <th>mid</th>\n      <th>date</th>\n      <th>venue</th>\n      <th>bat_team</th>\n      <th>bowl_team</th>\n      <th>batsman</th>\n      <th>bowler</th>\n      <th>runs</th>\n      <th>wickets</th>\n      <th>overs</th>\n      <th>runs_last_5</th>\n      <th>wickets_last_5</th>\n      <th>striker</th>\n      <th>non-striker</th>\n      <th>total</th>\n      <th>win</th>\n    </tr>\n  </thead>\n  <tbody>\n    <tr>\n      <th>0</th>\n      <td>1524</td>\n      <td>2013-01-11</td>\n      <td>Saurashtra Cricket Association Stadium</td>\n      <td>India</td>\n      <td>England</td>\n      <td>AM Rahane</td>\n      <td>ST Finn</td>\n      <td>0</td>\n      <td>0</td>\n      <td>0.1</td>\n      <td>0</td>\n      <td>0</td>\n      <td>0</td>\n      <td>0</td>\n      <td>325</td>\n      <td>0</td>\n    </tr>\n    <tr>\n      <th>1</th>\n      <td>1524</td>\n      <td>2013-01-11</td>\n      <td>Saurashtra Cricket Association Stadium</td>\n      <td>India</td>\n      <td>England</td>\n      <td>AM Rahane</td>\n      <td>ST Finn</td>\n      <td>0</td>\n      <td>0</td>\n      <td>0.2</td>\n      <td>0</td>\n      <td>0</td>\n      <td>0</td>\n      <td>0</td>\n      <td>325</td>\n      <td>0</td>\n    </tr>\n    <tr>\n      <th>2</th>\n      <td>1524</td>\n      <td>2013-01-11</td>\n      <td>Saurashtra Cricket Association Stadium</td>\n      <td>India</td>\n      <td>England</td>\n      <td>AM Rahane</td>\n      <td>ST Finn</td>\n      <td>0</td>\n      <td>0</td>\n      <td>0.3</td>\n      <td>0</td>\n      <td>0</td>\n      <td>0</td>\n      <td>0</td>\n      <td>325</td>\n      <td>0</td>\n    </tr>\n    <tr>\n      <th>3</th>\n      <td>1524</td>\n      <td>2013-01-11</td>\n      <td>Saurashtra Cricket Association Stadium</td>\n      <td>India</td>\n      <td>England</td>\n      <td>AM Rahane</td>\n      <td>ST Finn</td>\n      <td>4</td>\n      <td>0</td>\n      <td>0.4</td>\n      <td>4</td>\n      <td>0</td>\n      <td>4</td>\n      <td>0</td>\n      <td>325</td>\n      <td>0</td>\n    </tr>\n    <tr>\n      <th>4</th>\n      <td>1524</td>\n      <td>2013-01-11</td>\n      <td>Saurashtra Cricket Association Stadium</td>\n      <td>India</td>\n      <td>England</td>\n      <td>AM Rahane</td>\n      <td>ST Finn</td>\n      <td>4</td>\n      <td>0</td>\n      <td>0.5</td>\n      <td>4</td>\n      <td>0</td>\n      <td>4</td>\n      <td>0</td>\n      <td>325</td>\n      <td>0</td>\n    </tr>\n  </tbody>\n</table>\n</div>"
     },
     "metadata": {},
     "execution_count": 8
    }
   ],
   "source": [
    "df.head()"
   ]
  },
  {
   "cell_type": "code",
   "execution_count": 9,
   "metadata": {},
   "outputs": [],
   "source": [
    "X = df.iloc[:, [7,8,9,12,13,14]].values # input features\n",
    "y = df.iloc[:, 15].values # target"
   ]
  },
  {
   "cell_type": "code",
   "execution_count": 10,
   "metadata": {},
   "outputs": [
    {
     "output_type": "execute_result",
     "data": {
      "text/plain": [
       "     0    1    2    3    4      5\n",
       "0  0.0  0.0  0.1  0.0  0.0  325.0\n",
       "1  0.0  0.0  0.2  0.0  0.0  325.0\n",
       "2  0.0  0.0  0.3  0.0  0.0  325.0\n",
       "3  4.0  0.0  0.4  4.0  0.0  325.0\n",
       "4  4.0  0.0  0.5  4.0  0.0  325.0"
      ],
      "text/html": "<div>\n<style scoped>\n    .dataframe tbody tr th:only-of-type {\n        vertical-align: middle;\n    }\n\n    .dataframe tbody tr th {\n        vertical-align: top;\n    }\n\n    .dataframe thead th {\n        text-align: right;\n    }\n</style>\n<table border=\"1\" class=\"dataframe\">\n  <thead>\n    <tr style=\"text-align: right;\">\n      <th></th>\n      <th>0</th>\n      <th>1</th>\n      <th>2</th>\n      <th>3</th>\n      <th>4</th>\n      <th>5</th>\n    </tr>\n  </thead>\n  <tbody>\n    <tr>\n      <th>0</th>\n      <td>0.0</td>\n      <td>0.0</td>\n      <td>0.1</td>\n      <td>0.0</td>\n      <td>0.0</td>\n      <td>325.0</td>\n    </tr>\n    <tr>\n      <th>1</th>\n      <td>0.0</td>\n      <td>0.0</td>\n      <td>0.2</td>\n      <td>0.0</td>\n      <td>0.0</td>\n      <td>325.0</td>\n    </tr>\n    <tr>\n      <th>2</th>\n      <td>0.0</td>\n      <td>0.0</td>\n      <td>0.3</td>\n      <td>0.0</td>\n      <td>0.0</td>\n      <td>325.0</td>\n    </tr>\n    <tr>\n      <th>3</th>\n      <td>4.0</td>\n      <td>0.0</td>\n      <td>0.4</td>\n      <td>4.0</td>\n      <td>0.0</td>\n      <td>325.0</td>\n    </tr>\n    <tr>\n      <th>4</th>\n      <td>4.0</td>\n      <td>0.0</td>\n      <td>0.5</td>\n      <td>4.0</td>\n      <td>0.0</td>\n      <td>325.0</td>\n    </tr>\n  </tbody>\n</table>\n</div>"
     },
     "metadata": {},
     "execution_count": 10
    }
   ],
   "source": [
    "df_X = pd.DataFrame(X)\n",
    "df_X.head()"
   ]
  },
  {
   "cell_type": "code",
   "execution_count": 11,
   "metadata": {},
   "outputs": [],
   "source": [
    "from sklearn.model_selection import train_test_split\n",
    "X_train, X_test, y_train, y_test = train_test_split(X, y, test_size=0.2, random_state=0)"
   ]
  },
  {
   "cell_type": "code",
   "execution_count": 12,
   "metadata": {},
   "outputs": [],
   "source": [
    "from sklearn.preprocessing import StandardScaler\n",
    "sc = StandardScaler()\n",
    "X_train = sc.fit_transform(X_train)\n",
    "X_test = sc.transform(X_test)"
   ]
  },
  {
   "cell_type": "code",
   "execution_count": 13,
   "metadata": {},
   "outputs": [
    {
     "output_type": "execute_result",
     "data": {
      "text/plain": [
       "array([[-0.13082677, -0.40312525, -0.09091043,  0.57478911, -0.25259717,\n",
       "        -1.03256621],\n",
       "       [-1.02091154, -1.24107416, -1.17656085, -0.44470246,  0.08441898,\n",
       "        -1.54653158],\n",
       "       [ 1.00959435,  1.27277257,  0.87411217,  0.15944069, -0.38740363,\n",
       "         1.93516931],\n",
       "       [-1.45204635, -0.82209971, -1.47059118, -1.16212245, -0.65701655,\n",
       "         0.12800075],\n",
       "       [ 0.03606413, -0.40312525, -0.08337119,  0.91461963,  1.36508036,\n",
       "        -2.14339459]])"
      ]
     },
     "metadata": {},
     "execution_count": 13
    }
   ],
   "source": [
    "X_train[:5]"
   ]
  },
  {
   "cell_type": "code",
   "execution_count": 14,
   "metadata": {},
   "outputs": [
    {
     "output_type": "execute_result",
     "data": {
      "text/plain": [
       "LogisticRegression(multi_class='multinomial', random_state=0)"
      ]
     },
     "metadata": {},
     "execution_count": 14
    }
   ],
   "source": [
    "from sklearn.linear_model import LogisticRegression\n",
    "log = LogisticRegression(random_state=0, solver='lbfgs', multi_class='multinomial')\n",
    "log.fit(X_train, y_train)"
   ]
  },
  {
   "cell_type": "code",
   "execution_count": 15,
   "metadata": {},
   "outputs": [],
   "source": [
    "y_pred = log.predict(X_test)"
   ]
  },
  {
   "cell_type": "code",
   "execution_count": 16,
   "metadata": {},
   "outputs": [
    {
     "output_type": "stream",
     "name": "stdout",
     "text": [
      "Accuracy is: 0.8162851460437547\n"
     ]
    }
   ],
   "source": [
    "from sklearn.metrics import accuracy_score\n",
    "score = accuracy_score(y_test, y_pred)\n",
    "print(f\"Accuracy is: {score}\")"
   ]
  },
  {
   "cell_type": "code",
   "execution_count": 17,
   "metadata": {},
   "outputs": [
    {
     "output_type": "execute_result",
     "data": {
      "text/plain": [
       "array([[0.91814363, 0.08185637]])"
      ]
     },
     "metadata": {},
     "execution_count": 17
    }
   ],
   "source": [
    "import numpy as np\n",
    "new_prediction = log.predict_proba(sc.transform(np.array([[100, 5, 20, 23, 34, 300]])))\n",
    "new_prediction"
   ]
  },
  {
   "cell_type": "code",
   "execution_count": 18,
   "metadata": {},
   "outputs": [
    {
     "output_type": "stream",
     "name": "stdout",
     "text": [
      "Winning chances: 8.185636608327357\n"
     ]
    }
   ],
   "source": [
    "print(\"Winning chances:\", new_prediction[0][1]*100)"
   ]
  },
  {
   "cell_type": "code",
   "execution_count": 19,
   "metadata": {},
   "outputs": [
    {
     "output_type": "stream",
     "name": "stdout",
     "text": [
      "Winning chances: 88.7140376690745\n"
     ]
    }
   ],
   "source": [
    "new_prediction = log.predict_proba(sc.transform(np.array([[200, 3, 25, 23, 34, 300]])))\n",
    "print(\"Winning chances:\", new_prediction[0][1]*100)"
   ]
  },
  {
   "cell_type": "code",
   "execution_count": 20,
   "metadata": {},
   "outputs": [
    {
     "output_type": "execute_result",
     "data": {
      "text/plain": [
       "RandomForestClassifier()"
      ]
     },
     "metadata": {},
     "execution_count": 20
    }
   ],
   "source": [
    "from sklearn.ensemble import RandomForestClassifier\n",
    "rf = RandomForestClassifier()\n",
    "rf.fit(X_train, y_train)"
   ]
  },
  {
   "cell_type": "code",
   "execution_count": 21,
   "metadata": {},
   "outputs": [],
   "source": [
    "y_pred = rf.predict(X_test)"
   ]
  },
  {
   "cell_type": "code",
   "execution_count": 22,
   "metadata": {},
   "outputs": [
    {
     "output_type": "stream",
     "name": "stdout",
     "text": [
      "Accuracy is: 0.9920056155676013\n"
     ]
    }
   ],
   "source": [
    "from sklearn.metrics import accuracy_score\n",
    "score = accuracy_score(y_test, y_pred)\n",
    "print(f\"Accuracy is: {score}\")"
   ]
  },
  {
   "cell_type": "code",
   "execution_count": 23,
   "metadata": {},
   "outputs": [
    {
     "output_type": "stream",
     "name": "stdout",
     "text": [
      "Winning chances: 84.75544247202849\n"
     ]
    }
   ],
   "source": [
    "new_prediction = log.predict_proba(sc.transform(np.array([[280, 9, 25, 23, 34, 300]])))\n",
    "print(\"Winning chances:\", new_prediction[0][1]*100)"
   ]
  },
  {
   "cell_type": "code",
   "execution_count": 24,
   "metadata": {},
   "outputs": [
    {
     "output_type": "stream",
     "name": "stdout",
     "text": [
      "Winning chances: 32.0\n"
     ]
    }
   ],
   "source": [
    "new_prediction = rf.predict_proba(sc.transform(np.array([[280, 9, 25, 23, 34, 300]])))\n",
    "print(\"Winning chances:\", new_prediction[0][1]*100)"
   ]
  },
  {
   "cell_type": "code",
   "execution_count": 26,
   "metadata": {},
   "outputs": [],
   "source": [
    "import pickle\n",
    "pickle.dump(log, open('../model/odi_logistic.pkl', 'wb'))"
   ]
  },
  {
   "cell_type": "code",
   "execution_count": null,
   "metadata": {},
   "outputs": [],
   "source": []
  },
  {
   "cell_type": "code",
   "execution_count": null,
   "metadata": {},
   "outputs": [],
   "source": []
  }
 ],
 "metadata": {
  "kernelspec": {
   "name": "python3612jvsc74a57bd0854c219fbfd00bcd2d804982198e3d4d697ff1ea8adedb65988c916ebc9bcd9a",
   "display_name": "Python 3.6.12 64-bit ('cricket': conda)"
  },
  "language_info": {
   "codemirror_mode": {
    "name": "ipython",
    "version": 3
   },
   "file_extension": ".py",
   "mimetype": "text/x-python",
   "name": "python",
   "nbconvert_exporter": "python",
   "pygments_lexer": "ipython3",
   "version": "3.6.12"
  }
 },
 "nbformat": 4,
 "nbformat_minor": 4
}